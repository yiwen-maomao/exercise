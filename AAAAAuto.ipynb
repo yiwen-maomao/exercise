{
 "cells": [
  {
   "cell_type": "code",
   "execution_count": 110,
   "metadata": {},
   "outputs": [],
   "source": [
    "from keras.utils import to_categorical\n",
    "from keras import layers, models, optimizers ,Model\n",
    "from keras.layers import Input \n",
    "def load_mnist():\n",
    "    # the data, shuffled and split between train and test sets\n",
    "    from keras.datasets import mnist\n",
    "    (x_train, y_train), (x_test, y_test) = mnist.load_data()\n",
    "\n",
    "    x_train = x_train.reshape(-1, 28, 28, 1).astype('float32') / 255.\n",
    "    x_test = x_test.reshape(-1, 28, 28, 1).astype('float32') / 255.\n",
    "    y_train = to_categorical(y_train.astype('float32'))\n",
    "    y_test = to_categorical(y_test.astype('float32'))\n",
    "    return (x_train, y_train), (x_test, y_test)\n",
    "(x_train, y_train), (x_test, y_test) = load_mnist()"
   ]
  },
  {
   "cell_type": "code",
   "execution_count": 2,
   "metadata": {
    "collapsed": true
   },
   "outputs": [],
   "source": [
    "from keras import backend as K\n",
    "from keras.layers import Activation \n",
    "from keras.utils.generic_utils import get_custom_objects\n",
    "def swish(x):\n",
    "    return K.sigmoid(x)*x\n",
    "get_custom_objects().update({'swish': Activation(swish )})"
   ]
  },
  {
   "cell_type": "code",
   "execution_count": 3,
   "metadata": {
    "collapsed": true
   },
   "outputs": [],
   "source": [
    "Autoencoder=models.Sequential()\n",
    "Autoencoder.add(layers.Flatten(input_shape=(28, 28, 1)))\n",
    "Autoencoder.add(layers.Dense(units=1024,activation='swish'))\n",
    "Autoencoder.add(layers.Dropout(0.3))\n",
    "Autoencoder.add(layers.Dense(units=256,activation='swish'))\n",
    "Autoencoder.add(layers.Dropout(0.4))\n",
    "Autoencoder.add(layers.Dense(units=64,activation='swish'))\n",
    "Autoencoder.add(layers.Dropout(0.5))\n",
    "Autoencoder.add(layers.Dense(units=16,activation='swish'))\n",
    "Autoencoder.add(layers.Dense(units=4,activation='tanh'))\n",
    "Autoencoder.add(layers.BatchNormalization())\n",
    "Autoencoder.add(layers.Dense(units=16,activation='swish'))\n",
    "Autoencoder.add(layers.Dense(units=64,activation='swish'))\n",
    "Autoencoder.add(layers.Dense(units=256,activation='swish'))\n",
    "Autoencoder.add(layers.Dense(units=512,activation='swish'))\n",
    "Autoencoder.add(layers.Dense(units=784,activation='relu'))\n",
    "Autoencoder.add(layers.Reshape((28,28,1)))"
   ]
  },
  {
   "cell_type": "code",
   "execution_count": 4,
   "metadata": {
    "collapsed": true
   },
   "outputs": [],
   "source": [
    "Autoencoder.compile(loss='mse',optimizer='Adam')"
   ]
  },
  {
   "cell_type": "code",
   "execution_count": 26,
   "metadata": {},
   "outputs": [
    {
     "name": "stdout",
     "output_type": "stream",
     "text": [
      "Epoch 1/200\n",
      "60000/60000 [==============================] - 1s 16us/step - loss: 0.0276\n",
      "Epoch 2/200\n",
      "60000/60000 [==============================] - 1s 16us/step - loss: 0.0276\n",
      "Epoch 3/200\n",
      "60000/60000 [==============================] - 1s 17us/step - loss: 0.0275\n",
      "Epoch 4/200\n",
      "60000/60000 [==============================] - 1s 17us/step - loss: 0.0277\n",
      "Epoch 5/200\n",
      "60000/60000 [==============================] - 1s 16us/step - loss: 0.0275\n",
      "Epoch 6/200\n",
      "60000/60000 [==============================] - 1s 17us/step - loss: 0.0275\n",
      "Epoch 7/200\n",
      "60000/60000 [==============================] - 1s 16us/step - loss: 0.0274\n",
      "Epoch 8/200\n",
      "60000/60000 [==============================] - 1s 16us/step - loss: 0.0276\n",
      "Epoch 9/200\n",
      "60000/60000 [==============================] - 1s 16us/step - loss: 0.0275\n",
      "Epoch 10/200\n",
      "60000/60000 [==============================] - 1s 17us/step - loss: 0.0274\n",
      "Epoch 11/200\n",
      "60000/60000 [==============================] - 1s 15us/step - loss: 0.0275: 0s \n",
      "Epoch 12/200\n",
      "60000/60000 [==============================] - 1s 16us/step - loss: 0.0275\n",
      "Epoch 13/200\n",
      "60000/60000 [==============================] - 1s 16us/step - loss: 0.0275\n",
      "Epoch 14/200\n",
      "60000/60000 [==============================] - 1s 17us/step - loss: 0.0275\n",
      "Epoch 15/200\n",
      "60000/60000 [==============================] - 1s 18us/step - loss: 0.0275\n",
      "Epoch 16/200\n",
      "60000/60000 [==============================] - 1s 17us/step - loss: 0.0273\n",
      "Epoch 17/200\n",
      "60000/60000 [==============================] - 1s 16us/step - loss: 0.0273\n",
      "Epoch 18/200\n",
      "60000/60000 [==============================] - 1s 16us/step - loss: 0.0274\n",
      "Epoch 19/200\n",
      "60000/60000 [==============================] - 1s 16us/step - loss: 0.0273\n",
      "Epoch 20/200\n",
      "60000/60000 [==============================] - 1s 17us/step - loss: 0.0273\n",
      "Epoch 21/200\n",
      "60000/60000 [==============================] - 1s 17us/step - loss: 0.0274\n",
      "Epoch 22/200\n",
      "60000/60000 [==============================] - 1s 17us/step - loss: 0.0273\n",
      "Epoch 23/200\n",
      "60000/60000 [==============================] - 1s 17us/step - loss: 0.0274\n",
      "Epoch 24/200\n",
      "60000/60000 [==============================] - 1s 17us/step - loss: 0.0273\n",
      "Epoch 25/200\n",
      "60000/60000 [==============================] - 1s 17us/step - loss: 0.0272\n",
      "Epoch 26/200\n",
      "60000/60000 [==============================] - 1s 17us/step - loss: 0.0274\n",
      "Epoch 27/200\n",
      "60000/60000 [==============================] - 1s 16us/step - loss: 0.0275\n",
      "Epoch 28/200\n",
      "60000/60000 [==============================] - 1s 18us/step - loss: 0.0273\n",
      "Epoch 29/200\n",
      "60000/60000 [==============================] - 1s 17us/step - loss: 0.0272\n",
      "Epoch 30/200\n",
      "60000/60000 [==============================] - 1s 18us/step - loss: 0.0272\n",
      "Epoch 31/200\n",
      "60000/60000 [==============================] - 1s 17us/step - loss: 0.0273\n",
      "Epoch 32/200\n",
      "60000/60000 [==============================] - 1s 17us/step - loss: 0.0273\n",
      "Epoch 33/200\n",
      "60000/60000 [==============================] - 1s 17us/step - loss: 0.0271\n",
      "Epoch 34/200\n",
      "60000/60000 [==============================] - 1s 17us/step - loss: 0.0272\n",
      "Epoch 35/200\n",
      "60000/60000 [==============================] - 1s 17us/step - loss: 0.0273\n",
      "Epoch 36/200\n",
      "60000/60000 [==============================] - 1s 16us/step - loss: 0.0271\n",
      "Epoch 37/200\n",
      "60000/60000 [==============================] - 1s 17us/step - loss: 0.0273\n",
      "Epoch 38/200\n",
      "60000/60000 [==============================] - 1s 17us/step - loss: 0.0272\n",
      "Epoch 39/200\n",
      "60000/60000 [==============================] - 1s 16us/step - loss: 0.0272\n",
      "Epoch 40/200\n",
      "60000/60000 [==============================] - 1s 17us/step - loss: 0.0271\n",
      "Epoch 41/200\n",
      "60000/60000 [==============================] - 1s 17us/step - loss: 0.0272\n",
      "Epoch 42/200\n",
      "60000/60000 [==============================] - 1s 17us/step - loss: 0.0272\n",
      "Epoch 43/200\n",
      "60000/60000 [==============================] - 1s 17us/step - loss: 0.0272\n",
      "Epoch 44/200\n",
      "60000/60000 [==============================] - 1s 16us/step - loss: 0.0273\n",
      "Epoch 45/200\n",
      "60000/60000 [==============================] - 1s 19us/step - loss: 0.0273\n",
      "Epoch 46/200\n",
      "60000/60000 [==============================] - 1s 17us/step - loss: 0.0272\n",
      "Epoch 47/200\n",
      "60000/60000 [==============================] - 1s 16us/step - loss: 0.0273\n",
      "Epoch 48/200\n",
      "60000/60000 [==============================] - 1s 17us/step - loss: 0.0272\n",
      "Epoch 49/200\n",
      "60000/60000 [==============================] - 1s 17us/step - loss: 0.0272\n",
      "Epoch 50/200\n",
      "60000/60000 [==============================] - 1s 16us/step - loss: 0.0271\n",
      "Epoch 51/200\n",
      "60000/60000 [==============================] - 1s 17us/step - loss: 0.0273\n",
      "Epoch 52/200\n",
      "60000/60000 [==============================] - 1s 17us/step - loss: 0.0271\n",
      "Epoch 53/200\n",
      "60000/60000 [==============================] - 1s 17us/step - loss: 0.0271\n",
      "Epoch 54/200\n",
      "60000/60000 [==============================] - 1s 17us/step - loss: 0.0272\n",
      "Epoch 55/200\n",
      "60000/60000 [==============================] - 1s 17us/step - loss: 0.0270\n",
      "Epoch 56/200\n",
      "60000/60000 [==============================] - 1s 19us/step - loss: 0.0272\n",
      "Epoch 57/200\n",
      "60000/60000 [==============================] - 1s 18us/step - loss: 0.0271\n",
      "Epoch 58/200\n",
      "60000/60000 [==============================] - 1s 16us/step - loss: 0.0271\n",
      "Epoch 59/200\n",
      "60000/60000 [==============================] - 1s 16us/step - loss: 0.0271\n",
      "Epoch 60/200\n",
      "60000/60000 [==============================] - 1s 16us/step - loss: 0.0271\n",
      "Epoch 61/200\n",
      "60000/60000 [==============================] - 1s 17us/step - loss: 0.0269\n",
      "Epoch 62/200\n",
      "60000/60000 [==============================] - 1s 16us/step - loss: 0.0272\n",
      "Epoch 63/200\n",
      "60000/60000 [==============================] - 1s 16us/step - loss: 0.0271\n",
      "Epoch 64/200\n",
      "60000/60000 [==============================] - 1s 16us/step - loss: 0.0270\n",
      "Epoch 65/200\n",
      "60000/60000 [==============================] - 1s 16us/step - loss: 0.0270\n",
      "Epoch 66/200\n",
      "60000/60000 [==============================] - 1s 16us/step - loss: 0.0271\n",
      "Epoch 67/200\n",
      "60000/60000 [==============================] - 1s 16us/step - loss: 0.0269\n",
      "Epoch 68/200\n",
      "60000/60000 [==============================] - 1s 16us/step - loss: 0.0269\n",
      "Epoch 69/200\n",
      "60000/60000 [==============================] - 1s 16us/step - loss: 0.0269\n",
      "Epoch 70/200\n",
      "60000/60000 [==============================] - 1s 16us/step - loss: 0.0269\n",
      "Epoch 71/200\n",
      "60000/60000 [==============================] - 1s 16us/step - loss: 0.0270\n",
      "Epoch 72/200\n",
      "60000/60000 [==============================] - 1s 16us/step - loss: 0.0270\n",
      "Epoch 73/200\n",
      "60000/60000 [==============================] - 1s 16us/step - loss: 0.0269\n",
      "Epoch 74/200\n",
      "60000/60000 [==============================] - 1s 16us/step - loss: 0.0270\n",
      "Epoch 75/200\n",
      "60000/60000 [==============================] - 1s 16us/step - loss: 0.0270\n",
      "Epoch 76/200\n",
      "60000/60000 [==============================] - 1s 16us/step - loss: 0.0270\n",
      "Epoch 77/200\n",
      "60000/60000 [==============================] - 1s 16us/step - loss: 0.0269\n",
      "Epoch 78/200\n",
      "60000/60000 [==============================] - 1s 16us/step - loss: 0.0269\n",
      "Epoch 79/200\n",
      "60000/60000 [==============================] - 1s 17us/step - loss: 0.0269\n",
      "Epoch 80/200\n",
      "60000/60000 [==============================] - 1s 16us/step - loss: 0.0269\n",
      "Epoch 81/200\n",
      "60000/60000 [==============================] - 1s 17us/step - loss: 0.0268\n",
      "Epoch 82/200\n",
      "60000/60000 [==============================] - 1s 16us/step - loss: 0.0269\n",
      "Epoch 83/200\n",
      "60000/60000 [==============================] - 1s 16us/step - loss: 0.0268\n",
      "Epoch 84/200\n",
      "60000/60000 [==============================] - 1s 16us/step - loss: 0.0269\n",
      "Epoch 85/200\n",
      "60000/60000 [==============================] - 1s 16us/step - loss: 0.0268\n",
      "Epoch 86/200\n",
      "60000/60000 [==============================] - 1s 16us/step - loss: 0.0269\n",
      "Epoch 87/200\n",
      "60000/60000 [==============================] - 1s 16us/step - loss: 0.0269\n",
      "Epoch 88/200\n",
      "60000/60000 [==============================] - 1s 16us/step - loss: 0.0268\n",
      "Epoch 89/200\n",
      "60000/60000 [==============================] - 1s 16us/step - loss: 0.0269\n",
      "Epoch 90/200\n",
      "60000/60000 [==============================] - 1s 16us/step - loss: 0.0268: \n",
      "Epoch 91/200\n",
      "60000/60000 [==============================] - 1s 16us/step - loss: 0.0267\n",
      "Epoch 92/200\n",
      "60000/60000 [==============================] - 1s 16us/step - loss: 0.0268\n",
      "Epoch 93/200\n",
      "60000/60000 [==============================] - 1s 16us/step - loss: 0.0268\n",
      "Epoch 94/200\n"
     ]
    },
    {
     "name": "stdout",
     "output_type": "stream",
     "text": [
      "60000/60000 [==============================] - 1s 16us/step - loss: 0.0268\n",
      "Epoch 95/200\n",
      "60000/60000 [==============================] - 1s 16us/step - loss: 0.0268\n",
      "Epoch 96/200\n",
      "60000/60000 [==============================] - 1s 16us/step - loss: 0.0267\n",
      "Epoch 97/200\n",
      "60000/60000 [==============================] - 1s 16us/step - loss: 0.0268\n",
      "Epoch 98/200\n",
      "60000/60000 [==============================] - 1s 16us/step - loss: 0.0269\n",
      "Epoch 99/200\n",
      "60000/60000 [==============================] - 1s 16us/step - loss: 0.0268\n",
      "Epoch 100/200\n",
      "60000/60000 [==============================] - 1s 16us/step - loss: 0.0267\n",
      "Epoch 101/200\n",
      "60000/60000 [==============================] - 1s 16us/step - loss: 0.0267\n",
      "Epoch 102/200\n",
      "60000/60000 [==============================] - 1s 16us/step - loss: 0.0267: 0s \n",
      "Epoch 103/200\n",
      "60000/60000 [==============================] - 1s 15us/step - loss: 0.0268\n",
      "Epoch 104/200\n",
      "60000/60000 [==============================] - 1s 16us/step - loss: 0.0269\n",
      "Epoch 105/200\n",
      "60000/60000 [==============================] - 1s 16us/step - loss: 0.0269\n",
      "Epoch 106/200\n",
      "60000/60000 [==============================] - 1s 16us/step - loss: 0.0268\n",
      "Epoch 107/200\n",
      "60000/60000 [==============================] - 1s 16us/step - loss: 0.0267\n",
      "Epoch 108/200\n",
      "60000/60000 [==============================] - 1s 16us/step - loss: 0.0268\n",
      "Epoch 109/200\n",
      "60000/60000 [==============================] - 1s 16us/step - loss: 0.0267\n",
      "Epoch 110/200\n",
      "60000/60000 [==============================] - 1s 16us/step - loss: 0.0267\n",
      "Epoch 111/200\n",
      "60000/60000 [==============================] - 1s 16us/step - loss: 0.0267\n",
      "Epoch 112/200\n",
      "60000/60000 [==============================] - 1s 16us/step - loss: 0.0267\n",
      "Epoch 113/200\n",
      "60000/60000 [==============================] - 1s 16us/step - loss: 0.0266\n",
      "Epoch 114/200\n",
      "60000/60000 [==============================] - 1s 16us/step - loss: 0.0267\n",
      "Epoch 115/200\n",
      "60000/60000 [==============================] - 1s 16us/step - loss: 0.0267\n",
      "Epoch 116/200\n",
      "60000/60000 [==============================] - 1s 16us/step - loss: 0.0267\n",
      "Epoch 117/200\n",
      "60000/60000 [==============================] - 1s 16us/step - loss: 0.0267\n",
      "Epoch 118/200\n",
      "60000/60000 [==============================] - 1s 16us/step - loss: 0.0266\n",
      "Epoch 119/200\n",
      "60000/60000 [==============================] - 1s 16us/step - loss: 0.0266\n",
      "Epoch 120/200\n",
      "60000/60000 [==============================] - 1s 16us/step - loss: 0.0268\n",
      "Epoch 121/200\n",
      "60000/60000 [==============================] - 1s 16us/step - loss: 0.0267\n",
      "Epoch 122/200\n",
      "60000/60000 [==============================] - 1s 16us/step - loss: 0.0267\n",
      "Epoch 123/200\n",
      "60000/60000 [==============================] - 1s 16us/step - loss: 0.0267\n",
      "Epoch 124/200\n",
      "60000/60000 [==============================] - 1s 16us/step - loss: 0.0267\n",
      "Epoch 125/200\n",
      "60000/60000 [==============================] - 1s 16us/step - loss: 0.0266\n",
      "Epoch 126/200\n",
      "60000/60000 [==============================] - 1s 16us/step - loss: 0.0267\n",
      "Epoch 127/200\n",
      "60000/60000 [==============================] - 1s 16us/step - loss: 0.0267\n",
      "Epoch 128/200\n",
      "60000/60000 [==============================] - 1s 16us/step - loss: 0.0265\n",
      "Epoch 129/200\n",
      "60000/60000 [==============================] - 1s 16us/step - loss: 0.0266\n",
      "Epoch 130/200\n",
      "60000/60000 [==============================] - 1s 16us/step - loss: 0.0266\n",
      "Epoch 131/200\n",
      "60000/60000 [==============================] - 1s 16us/step - loss: 0.0266\n",
      "Epoch 132/200\n",
      "60000/60000 [==============================] - 1s 16us/step - loss: 0.0266\n",
      "Epoch 133/200\n",
      "60000/60000 [==============================] - 1s 16us/step - loss: 0.0265\n",
      "Epoch 134/200\n",
      "60000/60000 [==============================] - 1s 16us/step - loss: 0.0266\n",
      "Epoch 135/200\n",
      "60000/60000 [==============================] - 1s 16us/step - loss: 0.0265\n",
      "Epoch 136/200\n",
      "60000/60000 [==============================] - 1s 16us/step - loss: 0.0266\n",
      "Epoch 137/200\n",
      "60000/60000 [==============================] - 1s 16us/step - loss: 0.0266\n",
      "Epoch 138/200\n",
      "60000/60000 [==============================] - 1s 16us/step - loss: 0.0266\n",
      "Epoch 139/200\n",
      "60000/60000 [==============================] - 1s 16us/step - loss: 0.0266\n",
      "Epoch 140/200\n",
      "60000/60000 [==============================] - 1s 16us/step - loss: 0.0266\n",
      "Epoch 141/200\n",
      "60000/60000 [==============================] - 1s 16us/step - loss: 0.0266\n",
      "Epoch 142/200\n",
      "60000/60000 [==============================] - 1s 16us/step - loss: 0.0266\n",
      "Epoch 143/200\n",
      "60000/60000 [==============================] - 1s 16us/step - loss: 0.0265\n",
      "Epoch 144/200\n",
      "60000/60000 [==============================] - 1s 16us/step - loss: 0.0266\n",
      "Epoch 145/200\n",
      "60000/60000 [==============================] - 1s 16us/step - loss: 0.0266\n",
      "Epoch 146/200\n",
      "60000/60000 [==============================] - 1s 16us/step - loss: 0.0266\n",
      "Epoch 147/200\n",
      "60000/60000 [==============================] - 1s 16us/step - loss: 0.0266\n",
      "Epoch 148/200\n",
      "60000/60000 [==============================] - 1s 16us/step - loss: 0.0266\n",
      "Epoch 149/200\n",
      "60000/60000 [==============================] - 1s 16us/step - loss: 0.0266\n",
      "Epoch 150/200\n",
      "60000/60000 [==============================] - 1s 16us/step - loss: 0.0266\n",
      "Epoch 151/200\n",
      "60000/60000 [==============================] - 1s 16us/step - loss: 0.0265\n",
      "Epoch 152/200\n",
      "60000/60000 [==============================] - 1s 16us/step - loss: 0.0265\n",
      "Epoch 153/200\n",
      "60000/60000 [==============================] - 1s 16us/step - loss: 0.0265\n",
      "Epoch 154/200\n",
      "60000/60000 [==============================] - 1s 16us/step - loss: 0.0265\n",
      "Epoch 155/200\n",
      "60000/60000 [==============================] - 1s 16us/step - loss: 0.0266\n",
      "Epoch 156/200\n",
      "60000/60000 [==============================] - 1s 16us/step - loss: 0.0265\n",
      "Epoch 157/200\n",
      "60000/60000 [==============================] - 1s 16us/step - loss: 0.0265\n",
      "Epoch 158/200\n",
      "60000/60000 [==============================] - 1s 16us/step - loss: 0.0265\n",
      "Epoch 159/200\n",
      "60000/60000 [==============================] - 1s 16us/step - loss: 0.0264\n",
      "Epoch 160/200\n",
      "60000/60000 [==============================] - 1s 16us/step - loss: 0.0264\n",
      "Epoch 161/200\n",
      "60000/60000 [==============================] - 1s 16us/step - loss: 0.0265\n",
      "Epoch 162/200\n",
      "60000/60000 [==============================] - 1s 16us/step - loss: 0.0264\n",
      "Epoch 163/200\n",
      "60000/60000 [==============================] - 1s 16us/step - loss: 0.0265\n",
      "Epoch 164/200\n",
      "60000/60000 [==============================] - 1s 16us/step - loss: 0.0265\n",
      "Epoch 165/200\n",
      "60000/60000 [==============================] - 1s 16us/step - loss: 0.0265\n",
      "Epoch 166/200\n",
      "60000/60000 [==============================] - 1s 16us/step - loss: 0.0265\n",
      "Epoch 167/200\n",
      "60000/60000 [==============================] - 1s 16us/step - loss: 0.0264\n",
      "Epoch 168/200\n",
      "60000/60000 [==============================] - 1s 16us/step - loss: 0.0264\n",
      "Epoch 169/200\n",
      "60000/60000 [==============================] - 1s 16us/step - loss: 0.0264\n",
      "Epoch 170/200\n",
      "60000/60000 [==============================] - 1s 16us/step - loss: 0.0264\n",
      "Epoch 171/200\n",
      "60000/60000 [==============================] - 1s 16us/step - loss: 0.0264\n",
      "Epoch 172/200\n",
      "60000/60000 [==============================] - 1s 16us/step - loss: 0.0264\n",
      "Epoch 173/200\n",
      "60000/60000 [==============================] - 1s 16us/step - loss: 0.0265\n",
      "Epoch 174/200\n",
      "60000/60000 [==============================] - 1s 17us/step - loss: 0.0264\n",
      "Epoch 175/200\n",
      "60000/60000 [==============================] - 1s 16us/step - loss: 0.0264\n",
      "Epoch 176/200\n",
      "60000/60000 [==============================] - 1s 17us/step - loss: 0.0264\n",
      "Epoch 177/200\n",
      "60000/60000 [==============================] - 1s 16us/step - loss: 0.0265\n",
      "Epoch 178/200\n",
      "60000/60000 [==============================] - 1s 17us/step - loss: 0.0263\n",
      "Epoch 179/200\n",
      "60000/60000 [==============================] - 1s 16us/step - loss: 0.0265\n",
      "Epoch 180/200\n",
      "60000/60000 [==============================] - 1s 17us/step - loss: 0.0264\n",
      "Epoch 181/200\n",
      "60000/60000 [==============================] - 1s 16us/step - loss: 0.0265\n",
      "Epoch 182/200\n",
      "60000/60000 [==============================] - 1s 16us/step - loss: 0.0263\n",
      "Epoch 183/200\n",
      "60000/60000 [==============================] - 1s 16us/step - loss: 0.0264\n",
      "Epoch 184/200\n",
      "60000/60000 [==============================] - 1s 16us/step - loss: 0.0264\n",
      "Epoch 185/200\n",
      "60000/60000 [==============================] - 1s 16us/step - loss: 0.0264\n",
      "Epoch 186/200\n"
     ]
    },
    {
     "name": "stdout",
     "output_type": "stream",
     "text": [
      "60000/60000 [==============================] - 1s 16us/step - loss: 0.0264\n",
      "Epoch 187/200\n",
      "60000/60000 [==============================] - 1s 16us/step - loss: 0.0264\n",
      "Epoch 188/200\n",
      "60000/60000 [==============================] - 1s 16us/step - loss: 0.0263\n",
      "Epoch 189/200\n",
      "60000/60000 [==============================] - 1s 16us/step - loss: 0.0264\n",
      "Epoch 190/200\n",
      "60000/60000 [==============================] - 1s 16us/step - loss: 0.0264\n",
      "Epoch 191/200\n",
      "60000/60000 [==============================] - 1s 16us/step - loss: 0.0263\n",
      "Epoch 192/200\n",
      "60000/60000 [==============================] - 1s 16us/step - loss: 0.0264\n",
      "Epoch 193/200\n",
      "60000/60000 [==============================] - 1s 16us/step - loss: 0.0263\n",
      "Epoch 194/200\n",
      "60000/60000 [==============================] - 1s 16us/step - loss: 0.0263\n",
      "Epoch 195/200\n",
      "60000/60000 [==============================] - 1s 16us/step - loss: 0.0263\n",
      "Epoch 196/200\n",
      "60000/60000 [==============================] - 1s 16us/step - loss: 0.0264\n",
      "Epoch 197/200\n",
      "60000/60000 [==============================] - 1s 15us/step - loss: 0.0264\n",
      "Epoch 198/200\n",
      "60000/60000 [==============================] - 1s 16us/step - loss: 0.0265\n",
      "Epoch 199/200\n",
      "60000/60000 [==============================] - 1s 16us/step - loss: 0.0264\n",
      "Epoch 200/200\n",
      "60000/60000 [==============================] - 1s 16us/step - loss: 0.0264\n"
     ]
    },
    {
     "data": {
      "text/plain": [
       "<keras.callbacks.History at 0x7f400c130a20>"
      ]
     },
     "execution_count": 26,
     "metadata": {},
     "output_type": "execute_result"
    }
   ],
   "source": [
    "Autoencoder.fit(x_train,x_train,epochs=200,batch_size=800)"
   ]
  },
  {
   "cell_type": "code",
   "execution_count": 115,
   "metadata": {},
   "outputs": [],
   "source": [
    "xx_test=x_test\n",
    "xx_test[:,0:14,:,:]=0"
   ]
  },
  {
   "cell_type": "code",
   "execution_count": 125,
   "metadata": {},
   "outputs": [
    {
     "name": "stdout",
     "output_type": "stream",
     "text": [
      "64\n"
     ]
    },
    {
     "data": {
      "text/plain": [
       "<matplotlib.image.AxesImage at 0x7f404cd03780>"
      ]
     },
     "execution_count": 125,
     "metadata": {},
     "output_type": "execute_result"
    },
    {
     "data": {
      "image/png": "[encoded data removed]",
      "text/plain": [
       "<matplotlib.figure.Figure at 0x7f404d2d5b70>"
      ]
     },
     "metadata": {},
     "output_type": "display_data"
    }
   ],
   "source": [
    "pnum = input()\n",
    "pnum = int(pnum)\n",
    "x_recon = Autoencoder.predict(x_test, batch_size=20)\n",
    "%matplotlib inline\n",
    "import numpy\n",
    "import matplotlib.pyplot as plt\n",
    "reco = x_recon[pnum,:,:]*255\n",
    "reco = numpy.reshape(reco,(28,28))\n",
    "#plt.imshow(reco)\n",
    "x_recon1 = Autoencoder.predict(xx_test, batch_size=20)\n",
    "reco1 = x_recon1[pnum,:,:]*255\n",
    "reco1 = numpy.reshape(reco1,(28,28))\n",
    "#plt.imshow(reco1)\n",
    "p = numpy.column_stack((reco,reco1))\n",
    "plt.imshow(p)"
   ]
  },
  {
   "cell_type": "code",
   "execution_count": 7,
   "metadata": {
    "collapsed": true
   },
   "outputs": [],
   "source": [
    "encoded_input = Input(shape=(4,))\n",
    "decoder = Autoencoder.layers[-6](encoded_input)\n",
    "decoder = Autoencoder.layers[-5](decoder)\n",
    "decoder = Autoencoder.layers[-4](decoder)\n",
    "decoder = Autoencoder.layers[-3](decoder)\n",
    "decoder = Autoencoder.layers[-2](decoder)\n",
    "decoder = Autoencoder.layers[-1](decoder)\n",
    "Decoder = Model(encoded_input, decoder)"
   ]
  },
  {
   "cell_type": "code",
   "execution_count": 160,
   "metadata": {},
   "outputs": [
    {
     "data": {
      "image/png": "[encoded data removed]",
      "text/plain": [
       "<matplotlib.figure.Figure at 0x7f40488fd5f8>"
      ]
     },
     "metadata": {},
     "output_type": "display_data"
    }
   ],
   "source": [
    "def showw():\n",
    "    p=numpy.zeros((28,28))\n",
    "    for i in range(20):\n",
    "        a=numpy.random.random((1,4))*6-3\n",
    "        reco=Decoder.predict(a)\n",
    "        reco=numpy.reshape(reco,(28,28))\n",
    "        p = numpy.column_stack((p,reco))\n",
    "    plt.imshow(p)\n",
    "showw()"
   ]
  },
  {
   "cell_type": "code",
   "execution_count": 71,
   "metadata": {
    "collapsed": true
   },
   "outputs": [],
   "source": [
    "Big=models.Sequential()\n",
    "Big.add(layers.Flatten(input_shape=(28, 28, 1)))\n",
    "Big.add(layers.AlphaDropout(0.5))\n",
    "Big.add(layers.Dense(units=512,activation='swish'))\n",
    "Big.add(layers.AlphaDropout(0.5))\n",
    "Big.add(layers.Dense(units=512,activation='swish'))\n",
    "Big.add(layers.AlphaDropout(0.5))\n",
    "Big.add(layers.Dense(units=3136,activation='swish'))\n",
    "Big.add(layers.Dropout(0.3))\n",
    "Big.add(layers.Reshape((56,56,1)))\n",
    "Big.add(layers.Conv2D(filters=128,kernel_size=(3,3),activation='swish',padding='same'))\n",
    "Big.add(layers.Dropout(0.3))\n",
    "Big.add(layers.MaxPool2D())\n",
    "Big.add(layers.Conv2D(filters=1,kernel_size=(3,3),activation='relu',padding='same'))"
   ]
  },
  {
   "cell_type": "code",
   "execution_count": 72,
   "metadata": {},
   "outputs": [
    {
     "ename": "AttributeError",
     "evalue": "'NoneType' object has no attribute 'summary'",
     "output_type": "error",
     "traceback": [
      "\u001b[0;31m---------------------------------------------------------------------------\u001b[0m",
      "\u001b[0;31mAttributeError\u001b[0m                            Traceback (most recent call last)",
      "\u001b[0;32m<ipython-input-72-035f788fb122>\u001b[0m in \u001b[0;36m<module>\u001b[0;34m()\u001b[0m\n\u001b[0;32m----> 1\u001b[0;31m \u001b[0mBig\u001b[0m\u001b[0;34m.\u001b[0m\u001b[0mmodel\u001b[0m\u001b[0;34m.\u001b[0m\u001b[0msummary\u001b[0m\u001b[0;34m(\u001b[0m\u001b[0;34m)\u001b[0m\u001b[0;34m\u001b[0m\u001b[0m\n\u001b[0m",
      "\u001b[0;31mAttributeError\u001b[0m: 'NoneType' object has no attribute 'summary'"
     ]
    }
   ],
   "source": [
    "Big.model.summary()"
   ]
  },
  {
   "cell_type": "code",
   "execution_count": 73,
   "metadata": {},
   "outputs": [
    {
     "name": "stdout",
     "output_type": "stream",
     "text": [
      "Train on 60000 samples, validate on 10000 samples\n",
      "Epoch 1/2\n",
      "60000/60000 [==============================] - 54s 907us/step - loss: 0.0326 - val_loss: 0.1070\n",
      "Epoch 2/2\n",
      "60000/60000 [==============================] - 54s 897us/step - loss: 0.0289 - val_loss: 0.0632\n"
     ]
    },
    {
     "data": {
      "text/plain": [
       "<keras.callbacks.History at 0x7f404d68df60>"
      ]
     },
     "execution_count": 73,
     "metadata": {},
     "output_type": "execute_result"
    }
   ],
   "source": [
    "Big.compile(optimizer='Adam', loss='msle')\n",
    "Big.fit(x_train, x_train,\n",
    "                epochs=2,\n",
    "                batch_size=150,\n",
    "                shuffle=True,\n",
    "                validation_data=(x_test, x_test))"
   ]
  },
  {
   "cell_type": "code",
   "execution_count": 74,
   "metadata": {
    "collapsed": true
   },
   "outputs": [],
   "source": [
    "encoded_input = Input(shape=(28,28,1,))\n",
    "bigger = Big.layers[0](encoded_input)\n",
    "bigger = Big.layers[1](bigger)\n",
    "bigger = Big.layers[2](bigger)\n",
    "bigger = Big.layers[3](bigger)\n",
    "bigger = Big.layers[4](bigger)\n",
    "bigger = Big.layers[5](bigger)\n",
    "bigger = Big.layers[6](bigger)\n",
    "bigger = Big.layers[7](bigger)\n",
    "bigger = Big.layers[8](bigger)\n",
    "Bigger = Model(encoded_input, bigger)"
   ]
  },
  {
   "cell_type": "code",
   "execution_count": 76,
   "metadata": {},
   "outputs": [
    {
     "data": {
      "text/plain": [
       "<matplotlib.image.AxesImage at 0x7f404d185860>"
      ]
     },
     "execution_count": 76,
     "metadata": {},
     "output_type": "execute_result"
    },
    {
     "data": {
      "image/png": "[encoded data removed]",
      "text/plain": [
       "<matplotlib.figure.Figure at 0x7f4007bcde10>"
      ]
     },
     "metadata": {},
     "output_type": "display_data"
    }
   ],
   "source": [
    "x_recon = Bigger.predict(x_test, batch_size=20)\n",
    "x_recon.shape\n",
    "%matplotlib inline\n",
    "import numpy\n",
    "import matplotlib.pyplot as plt\n",
    "reco=x_recon[13,:,:]*255\n",
    "reco=numpy.reshape(reco,(56,56))\n",
    "plt.imshow(reco)"
   ]
  }
 ],
 "metadata": {
  "kernelspec": {
   "display_name": "Python 3",
   "language": "python",
   "name": "python3"
  },
  "language_info": {
   "codemirror_mode": {
    "name": "ipython",
    "version": 3
   },
   "file_extension": ".py",
   "mimetype": "text/x-python",
   "name": "python",
   "nbconvert_exporter": "python",
   "pygments_lexer": "ipython3",
   "version": "3.6.1"
  }
 },
 "nbformat": 4,
 "nbformat_minor": 2
}
