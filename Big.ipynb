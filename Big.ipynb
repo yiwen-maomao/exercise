{
 "cells": [
  {
   "cell_type": "code",
   "execution_count": 1,
   "metadata": {},
   "outputs": [
    {
     "name": "stderr",
     "output_type": "stream",
     "text": [
      "Using TensorFlow backend.\n",
      "/home/yiwen/anaconda3/lib/python3.6/importlib/_bootstrap.py:205: RuntimeWarning: compiletime version 3.5 of module 'tensorflow.python.framework.fast_tensor_util' does not match runtime version 3.6\n",
      "  return f(*args, **kwds)\n"
     ]
    }
   ],
   "source": [
    "from keras.utils import to_categorical\n",
    "from keras import layers, models, optimizers ,Model\n",
    "from keras.layers import Input \n",
    "def load_mnist():\n",
    "    # the data, shuffled and split between train and test sets\n",
    "    from keras.datasets import mnist\n",
    "    (x_train, y_train), (x_test, y_test) = mnist.load_data()\n",
    "\n",
    "    x_train = x_train.reshape(-1, 28, 28, 1).astype('float32') / 255.\n",
    "    x_test = x_test.reshape(-1, 28, 28, 1).astype('float32') / 255.\n",
    "    y_train = to_categorical(y_train.astype('float32'))\n",
    "    y_test = to_categorical(y_test.astype('float32'))\n",
    "    return (x_train, y_train), (x_test, y_test)\n",
    "(x_train, y_train), (x_test, y_test) = load_mnist()"
   ]
  },
  {
   "cell_type": "code",
   "execution_count": 2,
   "metadata": {
    "collapsed": true
   },
   "outputs": [],
   "source": [
    "from keras import backend as K\n",
    "from keras.layers import Activation \n",
    "from keras.utils.generic_utils import get_custom_objects\n",
    "def swish(x):\n",
    "    return K.sigmoid(x)*x\n",
    "get_custom_objects().update({'swish': Activation(swish )})"
   ]
  },
  {
   "cell_type": "code",
   "execution_count": 31,
   "metadata": {
    "collapsed": true
   },
   "outputs": [],
   "source": [
    "from IPython.display import display, Image\n",
    "from PIL import Image as PIL_Image\n",
    "from io import BytesIO\n",
    "import numpy as np\n",
    "from IPython.display import display, Image\n",
    "\n",
    "def display_img_array(ima, **kwargs):\n",
    "    if ima.dtype == np.float32 or ima.dtype == np.float64:\n",
    "        ima = (np.clip(ima, 0., 1.)*255).astype(np.uint8)\n",
    "    im = PIL_Image.fromarray(ima)\n",
    "    bio = BytesIO()\n",
    "    im.save(bio, format='png')\n",
    "    display(Image(bio.getvalue(), format='png', **kwargs))"
   ]
  },
  {
   "cell_type": "code",
   "execution_count": 56,
   "metadata": {
    "collapsed": true
   },
   "outputs": [],
   "source": [
    "IMG_C, IMG_W, IMG_H=1,56,56\n",
    "def show(x):\n",
    "    x = x.reshape(-1, IMG_C, IMG_H, IMG_W)\n",
    "    w = min(x.shape[0]*100, 800)\n",
    "    x = x.swapaxes(0, 1).swapaxes(1,2)\n",
    "    if IMG_C == 1:\n",
    "        img = x.reshape(IMG_H, -1)\n",
    "    else:\n",
    "        x = x.reshape(IMG_C, IMG_H, -1)\n",
    "        img = np.swapaxes(x, 0, 1)\n",
    "        img = np.swapaxes(img, 1, 2)\n",
    "    display_img_array(img, width=w) "
   ]
  },
  {
   "cell_type": "code",
   "execution_count": 84,
   "metadata": {},
   "outputs": [
    {
     "name": "stdout",
     "output_type": "stream",
     "text": [
      "_________________________________________________________________\n",
      "Layer (type)                 Output Shape              Param #   \n",
      "=================================================================\n",
      "conv2d_transpose_59 (Conv2DT (None, 35, 35, 128)       8320      \n",
      "_________________________________________________________________\n",
      "dropout_63 (Dropout)         (None, 35, 35, 128)       0         \n",
      "_________________________________________________________________\n",
      "conv2d_transpose_60 (Conv2DT (None, 42, 42, 128)       1048704   \n",
      "_________________________________________________________________\n",
      "dropout_64 (Dropout)         (None, 42, 42, 128)       0         \n",
      "_________________________________________________________________\n",
      "conv2d_transpose_61 (Conv2DT (None, 49, 49, 64)        524352    \n",
      "_________________________________________________________________\n",
      "dropout_65 (Dropout)         (None, 49, 49, 64)        0         \n",
      "_________________________________________________________________\n",
      "conv2d_transpose_62 (Conv2DT (None, 56, 56, 1)         4097      \n",
      "_________________________________________________________________\n",
      "dropout_66 (Dropout)         (None, 56, 56, 1)         0         \n",
      "_________________________________________________________________\n",
      "conv2d_32 (Conv2D)           (None, 56, 56, 128)       1280      \n",
      "_________________________________________________________________\n",
      "conv2d_33 (Conv2D)           (None, 28, 28, 1)         1153      \n",
      "=================================================================\n",
      "Total params: 1,587,906\n",
      "Trainable params: 1,587,906\n",
      "Non-trainable params: 0\n",
      "_________________________________________________________________\n"
     ]
    }
   ],
   "source": [
    "Big=models.Sequential()\n",
    "Big.add(layers.convolutional.Conv2DTranspose(input_shape=(28, 28, 1),filters=128,kernel_size=(8,8),activation='relu'))\n",
    "Big.add(layers.Dropout(0.3))\n",
    "Big.add(layers.convolutional.Conv2DTranspose(filters=128,kernel_size=(8,8),activation='swish'))\n",
    "Big.add(layers.Dropout(0.3))\n",
    "Big.add(layers.convolutional.Conv2DTranspose(filters=64,kernel_size=(8,8),activation='swish'))\n",
    "Big.add(layers.Dropout(0.3))\n",
    "Big.add(layers.convolutional.Conv2DTranspose(filters=1,kernel_size=(8,8),activation='relu'))\n",
    "Big.add(layers.Dropout(0.3))\n",
    "Big.add(layers.Conv2D(filters=128,kernel_size=(3,3),activation='relu',padding='same'))\n",
    "Big.add(layers.Conv2D(filters=1,kernel_size=(3,3),strides=2,activation='relu',padding='same'))\n",
    "Big.summary()"
   ]
  },
  {
   "cell_type": "code",
   "execution_count": 89,
   "metadata": {},
   "outputs": [
    {
     "name": "stdout",
     "output_type": "stream",
     "text": [
      "Train on 60000 samples, validate on 10000 samples\n",
      "Epoch 1/30\n",
      "60000/60000 [==============================] - 161s 3ms/step - loss: 0.0115 - val_loss: 0.0096\n",
      "Epoch 2/30\n",
      "60000/60000 [==============================] - 160s 3ms/step - loss: 0.0088 - val_loss: 0.0075\n",
      "Epoch 3/30\n",
      "60000/60000 [==============================] - 158s 3ms/step - loss: 0.0076 - val_loss: 0.0068\n",
      "Epoch 4/30\n",
      "60000/60000 [==============================] - 159s 3ms/step - loss: 0.0069 - val_loss: 0.0077\n",
      "Epoch 5/30\n",
      "60000/60000 [==============================] - 161s 3ms/step - loss: 0.0064 - val_loss: 0.0090\n",
      "Epoch 6/30\n",
      "60000/60000 [==============================] - 160s 3ms/step - loss: 0.0061 - val_loss: 0.0067\n",
      "Epoch 7/30\n",
      "60000/60000 [==============================] - 160s 3ms/step - loss: 0.0058 - val_loss: 0.0089\n",
      "Epoch 8/30\n",
      "60000/60000 [==============================] - 161s 3ms/step - loss: 0.0056 - val_loss: 0.0088\n",
      "Epoch 9/30\n",
      "60000/60000 [==============================] - 159s 3ms/step - loss: 0.0055 - val_loss: 0.0079\n",
      "Epoch 10/30\n",
      "60000/60000 [==============================] - 160s 3ms/step - loss: 0.0054 - val_loss: 0.0072\n",
      "Epoch 11/30\n",
      "60000/60000 [==============================] - 161s 3ms/step - loss: 0.0053 - val_loss: 0.0069\n",
      "Epoch 12/30\n",
      "60000/60000 [==============================] - 161s 3ms/step - loss: 0.0051 - val_loss: 0.0074\n",
      "Epoch 13/30\n",
      "60000/60000 [==============================] - 160s 3ms/step - loss: 0.0051 - val_loss: 0.0073\n",
      "Epoch 14/30\n",
      "60000/60000 [==============================] - 160s 3ms/step - loss: 0.0050 - val_loss: 0.0074\n",
      "Epoch 15/30\n",
      "60000/60000 [==============================] - 159s 3ms/step - loss: 0.0049 - val_loss: 0.0084\n",
      "Epoch 16/30\n",
      "60000/60000 [==============================] - 161s 3ms/step - loss: 0.0048 - val_loss: 0.0073\n",
      "Epoch 17/30\n",
      "60000/60000 [==============================] - 161s 3ms/step - loss: 0.0048 - val_loss: 0.0071\n",
      "Epoch 18/30\n",
      "60000/60000 [==============================] - 161s 3ms/step - loss: 0.0047 - val_loss: 0.0081\n",
      "Epoch 19/30\n",
      "60000/60000 [==============================] - 158s 3ms/step - loss: 0.0047 - val_loss: 0.0079\n",
      "Epoch 20/30\n",
      "60000/60000 [==============================] - 158s 3ms/step - loss: 0.0046 - val_loss: 0.0073\n",
      "Epoch 21/30\n",
      "60000/60000 [==============================] - 159s 3ms/step - loss: 0.0046 - val_loss: 0.0076\n",
      "Epoch 22/30\n",
      "60000/60000 [==============================] - 161s 3ms/step - loss: 0.0046 - val_loss: 0.0076\n",
      "Epoch 23/30\n",
      "60000/60000 [==============================] - 159s 3ms/step - loss: 0.0045 - val_loss: 0.0080\n",
      "Epoch 24/30\n",
      "60000/60000 [==============================] - 159s 3ms/step - loss: 0.0045 - val_loss: 0.0076\n",
      "Epoch 25/30\n",
      "60000/60000 [==============================] - 159s 3ms/step - loss: 0.0045 - val_loss: 0.0074\n",
      "Epoch 26/30\n",
      "60000/60000 [==============================] - 162s 3ms/step - loss: 0.0044 - val_loss: 0.0078\n",
      "Epoch 27/30\n",
      "60000/60000 [==============================] - 159s 3ms/step - loss: 0.0044 - val_loss: 0.0071\n",
      "Epoch 28/30\n",
      "60000/60000 [==============================] - 160s 3ms/step - loss: 0.0044 - val_loss: 0.0068\n",
      "Epoch 29/30\n",
      "60000/60000 [==============================] - 159s 3ms/step - loss: 0.0044 - val_loss: 0.0075\n",
      "Epoch 30/30\n",
      "60000/60000 [==============================] - 159s 3ms/step - loss: 0.0043 - val_loss: 0.0071\n"
     ]
    },
    {
     "data": {
      "text/plain": [
       "<keras.callbacks.History at 0x7f9ded00b470>"
      ]
     },
     "execution_count": 89,
     "metadata": {},
     "output_type": "execute_result"
    }
   ],
   "source": [
    "Big.compile(optimizer='Adam', loss='mse')\n",
    "Big.fit(x_train, x_train,\n",
    "                epochs=30,\n",
    "                batch_size=150,\n",
    "                shuffle=True,\n",
    "                validation_data=(x_test, x_test))"
   ]
  },
  {
   "cell_type": "code",
   "execution_count": 90,
   "metadata": {},
   "outputs": [
    {
     "data": {
      "text/plain": [
       "<matplotlib.image.AxesImage at 0x7f9de40b0e48>"
      ]
     },
     "execution_count": 90,
     "metadata": {},
     "output_type": "execute_result"
    },
    {
     "data": {
      "image/png": "[encoded data removed]",
      "text/plain": [
       "<matplotlib.figure.Figure at 0x7f9dec84ee48>"
      ]
     },
     "metadata": {},
     "output_type": "display_data"
    }
   ],
   "source": [
    "x_recon = Big.predict(x_test, batch_size=20)\n",
    "%matplotlib inline\n",
    "import numpy\n",
    "import matplotlib.pyplot as plt\n",
    "reco=x_recon[13,:,:]*255\n",
    "reco=numpy.reshape(reco,(28,28))\n",
    "plt.imshow(reco)"
   ]
  },
  {
   "cell_type": "code",
   "execution_count": 91,
   "metadata": {},
   "outputs": [
    {
     "data": {
      "text/plain": [
       "<matplotlib.image.AxesImage at 0x7f9de4040160>"
      ]
     },
     "execution_count": 91,
     "metadata": {},
     "output_type": "execute_result"
    },
    {
     "data": {
      "image/png": "[encoded data removed]",
      "text/plain": [
       "<matplotlib.figure.Figure at 0x7f9ded39da90>"
      ]
     },
     "metadata": {},
     "output_type": "display_data"
    }
   ],
   "source": [
    "reco=x_recon[25,:,:]*255\n",
    "reco=numpy.reshape(reco,(28,28))\n",
    "plt.imshow(reco)"
   ]
  },
  {
   "cell_type": "code",
   "execution_count": 92,
   "metadata": {},
   "outputs": [
    {
     "name": "stdout",
     "output_type": "stream",
     "text": [
      "_________________________________________________________________\n",
      "Layer (type)                 Output Shape              Param #   \n",
      "=================================================================\n",
      "input_8 (InputLayer)         (None, 28, 28, 1)         0         \n",
      "_________________________________________________________________\n",
      "conv2d_transpose_59 (Conv2DT (None, 35, 35, 128)       8320      \n",
      "_________________________________________________________________\n",
      "dropout_63 (Dropout)         (None, 35, 35, 128)       0         \n",
      "_________________________________________________________________\n",
      "conv2d_transpose_60 (Conv2DT (None, 42, 42, 128)       1048704   \n",
      "_________________________________________________________________\n",
      "dropout_64 (Dropout)         (None, 42, 42, 128)       0         \n",
      "_________________________________________________________________\n",
      "conv2d_transpose_61 (Conv2DT (None, 49, 49, 64)        524352    \n",
      "_________________________________________________________________\n",
      "dropout_65 (Dropout)         (None, 49, 49, 64)        0         \n",
      "_________________________________________________________________\n",
      "conv2d_transpose_62 (Conv2DT (None, 56, 56, 1)         4097      \n",
      "=================================================================\n",
      "Total params: 1,585,473\n",
      "Trainable params: 1,585,473\n",
      "Non-trainable params: 0\n",
      "_________________________________________________________________\n"
     ]
    }
   ],
   "source": [
    "encoded_input = Input(shape=(28,28,1,))\n",
    "bigger = Big.layers[0](encoded_input)\n",
    "bigger = Big.layers[1](bigger)\n",
    "bigger = Big.layers[2](bigger)\n",
    "bigger = Big.layers[3](bigger)\n",
    "bigger = Big.layers[4](bigger)\n",
    "bigger = Big.layers[5](bigger)\n",
    "bigger = Big.layers[6](bigger)\n",
    "Bigger = Model(encoded_input, bigger)\n",
    "Bigger.summary()"
   ]
  },
  {
   "cell_type": "code",
   "execution_count": 93,
   "metadata": {},
   "outputs": [
    {
     "data": {
      "text/plain": [
       "<matplotlib.image.AxesImage at 0x7f9ddc642f60>"
      ]
     },
     "execution_count": 93,
     "metadata": {},
     "output_type": "execute_result"
    },
    {
     "data": {
      "image/png": "[encoded data removed]",
      "text/plain": [
       "<matplotlib.figure.Figure at 0x7f9de405af60>"
      ]
     },
     "metadata": {},
     "output_type": "display_data"
    }
   ],
   "source": [
    "x_recon = Bigger.predict(x_test, batch_size=20)\n",
    "x_recon.shape\n",
    "%matplotlib inline\n",
    "import numpy\n",
    "import matplotlib.pyplot as plt\n",
    "reco=x_recon[13,:,:]\n",
    "reco=numpy.reshape(reco,(56,56))\n",
    "plt.imshow(reco)"
   ]
  },
  {
   "cell_type": "code",
   "execution_count": 1,
   "metadata": {},
   "outputs": [
    {
     "ename": "NameError",
     "evalue": "name 'Bigger' is not defined",
     "output_type": "error",
     "traceback": [
      "\u001b[0;31m---------------------------------------------------------------------------\u001b[0m",
      "\u001b[0;31mNameError\u001b[0m                                 Traceback (most recent call last)",
      "\u001b[0;32m<ipython-input-1-d3ad67b461b8>\u001b[0m in \u001b[0;36m<module>\u001b[0;34m()\u001b[0m\n\u001b[0;32m----> 1\u001b[0;31m \u001b[0mx_recon\u001b[0m \u001b[0;34m=\u001b[0m \u001b[0mBigger\u001b[0m\u001b[0;34m.\u001b[0m\u001b[0mpredict\u001b[0m\u001b[0;34m(\u001b[0m\u001b[0mx_test\u001b[0m\u001b[0;34m[\u001b[0m\u001b[0;36m1\u001b[0m\u001b[0;34m:\u001b[0m\u001b[0;36m50\u001b[0m\u001b[0;34m]\u001b[0m\u001b[0;34m)\u001b[0m\u001b[0;34m\u001b[0m\u001b[0m\n\u001b[0m\u001b[1;32m      2\u001b[0m \u001b[0mshow\u001b[0m\u001b[0;34m(\u001b[0m\u001b[0mx_recon\u001b[0m\u001b[0;34m)\u001b[0m\u001b[0;34m\u001b[0m\u001b[0m\n",
      "\u001b[0;31mNameError\u001b[0m: name 'Bigger' is not defined"
     ]
    }
   ],
   "source": [
    "x_recon = Bigger.predict(x_test[1:50])\n",
    "show(x_recon)"
   ]
  },
  {
   "cell_type": "code",
   "execution_count": null,
   "metadata": {
    "collapsed": true
   },
   "outputs": [],
   "source": []
  }
 ],
 "metadata": {
  "kernelspec": {
   "display_name": "Python 3",
   "language": "python",
   "name": "python3"
  },
  "language_info": {
   "codemirror_mode": {
    "name": "ipython",
    "version": 3
   },
   "file_extension": ".py",
   "mimetype": "text/x-python",
   "name": "python",
   "nbconvert_exporter": "python",
   "pygments_lexer": "ipython3",
   "version": "3.6.1"
  }
 },
 "nbformat": 4,
 "nbformat_minor": 2
}
