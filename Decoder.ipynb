{
 "cells": [
  {
   "cell_type": "code",
   "execution_count": 1,
   "metadata": {
    "collapsed": true
   },
   "outputs": [],
   "source": [
    "from IPython.display import display, Image\n",
    "from PIL import Image as PIL_Image\n",
    "from io import BytesIO\n",
    "import numpy as np\n",
    "from IPython.display import display, Image\n",
    "\n",
    "def display_img_array(ima, **kwargs):\n",
    "    if ima.dtype == np.float32 or ima.dtype == np.float64:\n",
    "        ima = (np.clip(ima, 0., 1.)*255).astype(np.uint8)\n",
    "    im = PIL_Image.fromarray(ima)\n",
    "    bio = BytesIO()\n",
    "    im.save(bio, format='png')\n",
    "    display(Image(bio.getvalue(), format='png', **kwargs))\n",
    "\n",
    "IMG_C, IMG_W, IMG_H=1,28,28\n",
    "def show(x):\n",
    "    x = x.reshape(-1, IMG_C, IMG_H, IMG_W)\n",
    "    w = min(x.shape[0]*100, 800)\n",
    "    x = x.swapaxes(0, 1).swapaxes(1,2)\n",
    "    if IMG_C == 1:\n",
    "        img = x.reshape(IMG_H, -1)\n",
    "    else:\n",
    "        x = x.reshape(IMG_C, IMG_H, -1)\n",
    "        img = np.swapaxes(x, 0, 1)\n",
    "        img = np.swapaxes(img, 1, 2)\n",
    "    display_img_array(img, width=w) "
   ]
  },
  {
   "cell_type": "code",
   "execution_count": 2,
   "metadata": {},
   "outputs": [
    {
     "name": "stderr",
     "output_type": "stream",
     "text": [
      "Using TensorFlow backend.\n",
      "/home/yiwen/anaconda3/lib/python3.6/importlib/_bootstrap.py:205: RuntimeWarning: compiletime version 3.5 of module 'tensorflow.python.framework.fast_tensor_util' does not match runtime version 3.6\n",
      "  return f(*args, **kwds)\n"
     ]
    }
   ],
   "source": [
    "from keras.utils import to_categorical\n",
    "from keras import layers, models, optimizers ,Model\n",
    "from keras.layers import Input \n",
    "def load_mnist():\n",
    "    # the data, shuffled and split between train and test sets\n",
    "    from keras.datasets import mnist\n",
    "    (x_train, y_train), (x_test, y_test) = mnist.load_data()\n",
    "\n",
    "    x_train = x_train.reshape(-1, 28, 28, 1).astype('float32') / 255.\n",
    "    x_test = x_test.reshape(-1, 28, 28, 1).astype('float32') / 255.\n",
    "    y_train = to_categorical(y_train.astype('float32'))\n",
    "    y_test = to_categorical(y_test.astype('float32'))\n",
    "    return (x_train, y_train), (x_test, y_test)\n",
    "(x_train, y_train), (x_test, y_test) = load_mnist()"
   ]
  },
  {
   "cell_type": "code",
   "execution_count": 3,
   "metadata": {
    "collapsed": true
   },
   "outputs": [],
   "source": [
    "from keras import backend as K\n",
    "from keras.layers import Activation \n",
    "from keras.utils.generic_utils import get_custom_objects\n",
    "def swish(x):\n",
    "    return K.sigmoid(x)*x\n",
    "get_custom_objects().update({'swish': Activation(swish )})"
   ]
  },
  {
   "cell_type": "code",
   "execution_count": 14,
   "metadata": {},
   "outputs": [
    {
     "name": "stdout",
     "output_type": "stream",
     "text": [
      "_________________________________________________________________\n",
      "Layer (type)                 Output Shape              Param #   \n",
      "=================================================================\n",
      "conv2d_10 (Conv2D)           (None, 28, 28, 256)       2560      \n",
      "_________________________________________________________________\n",
      "dropout_7 (Dropout)          (None, 28, 28, 256)       0         \n",
      "_________________________________________________________________\n",
      "max_pooling2d_5 (MaxPooling2 (None, 14, 14, 256)       0         \n",
      "_________________________________________________________________\n",
      "conv2d_11 (Conv2D)           (None, 14, 14, 10)        23050     \n",
      "_________________________________________________________________\n",
      "dropout_8 (Dropout)          (None, 14, 14, 10)        0         \n",
      "_________________________________________________________________\n",
      "conv2d_12 (Conv2D)           (None, 1, 1, 10)          19610     \n",
      "_________________________________________________________________\n",
      "flatten_1 (Flatten)          (None, 10)                0         \n",
      "=================================================================\n",
      "Total params: 45,220\n",
      "Trainable params: 45,220\n",
      "Non-trainable params: 0\n",
      "_________________________________________________________________\n"
     ]
    }
   ],
   "source": [
    "D=models.Sequential()\n",
    "D.add(layers.Conv2D(input_shape=(28, 28, 1),filters=256,kernel_size=(3,3),activation='relu',padding='same'))\n",
    "D.add(layers.Dropout(0.3))\n",
    "D.add(layers.MaxPool2D())\n",
    "D.add(layers.Conv2D(filters=10,kernel_size=(3,3),activation='relu',padding='same'))\n",
    "D.add(layers.Dropout(0.3))\n",
    "D.add(layers.Conv2D(filters=10,kernel_size=(14,14),activation='softmax',padding='valid'))\n",
    "#D.add(layers.Activation('softmax'))\n",
    "D.add(layers.Flatten())\n",
    "D.summary()"
   ]
  },
  {
   "cell_type": "code",
   "execution_count": 19,
   "metadata": {},
   "outputs": [
    {
     "name": "stdout",
     "output_type": "stream",
     "text": [
      "Epoch 1/10\n",
      "60000/60000 [==============================] - 20s 327us/step - loss: 0.0024 - acc: 0.9849\n",
      "Epoch 2/10\n",
      "60000/60000 [==============================] - 19s 323us/step - loss: 0.0022 - acc: 0.9861\n",
      "Epoch 3/10\n",
      "60000/60000 [==============================] - 19s 323us/step - loss: 0.0021 - acc: 0.9868\n",
      "Epoch 4/10\n",
      "60000/60000 [==============================] - 19s 323us/step - loss: 0.0020 - acc: 0.9871\n",
      "Epoch 5/10\n",
      "60000/60000 [==============================] - 19s 323us/step - loss: 0.0020 - acc: 0.9877\n",
      "Epoch 6/10\n",
      "60000/60000 [==============================] - 19s 324us/step - loss: 0.0018 - acc: 0.9881\n",
      "Epoch 7/10\n",
      "60000/60000 [==============================] - 19s 322us/step - loss: 0.0018 - acc: 0.9891\n",
      "Epoch 8/10\n",
      "60000/60000 [==============================] - 19s 323us/step - loss: 0.0018 - acc: 0.9889\n",
      "Epoch 9/10\n",
      "60000/60000 [==============================] - 19s 323us/step - loss: 0.0016 - acc: 0.9898\n",
      "Epoch 10/10\n",
      "60000/60000 [==============================] - 19s 323us/step - loss: 0.0016 - acc: 0.9900\n"
     ]
    },
    {
     "data": {
      "text/plain": [
       "<keras.callbacks.History at 0x7f5019377710>"
      ]
     },
     "execution_count": 19,
     "metadata": {},
     "output_type": "execute_result"
    }
   ],
   "source": [
    "D.compile(loss='mse',optimizer='Adam',metrics=['accuracy'])\n",
    "D.fit(x_train,y_train,epochs=10,batch_size=400)\n",
    "D.evaluate(x_test,y_test)"
   ]
  },
  {
   "cell_type": "code",
   "execution_count": 34,
   "metadata": {},
   "outputs": [],
   "source": [
    "D_train=D.predict(x_train)"
   ]
  },
  {
   "cell_type": "code",
   "execution_count": 74,
   "metadata": {},
   "outputs": [
    {
     "name": "stdout",
     "output_type": "stream",
     "text": [
      "_________________________________________________________________\n",
      "Layer (type)                 Output Shape              Param #   \n",
      "=================================================================\n",
      "dense_49 (Dense)             (None, 1960)              21560     \n",
      "_________________________________________________________________\n",
      "dropout_13 (Dropout)         (None, 1960)              0         \n",
      "_________________________________________________________________\n",
      "dense_50 (Dense)             (None, 1960)              3843560   \n",
      "_________________________________________________________________\n",
      "dropout_14 (Dropout)         (None, 1960)              0         \n",
      "_________________________________________________________________\n",
      "dense_51 (Dense)             (None, 1960)              3843560   \n",
      "_________________________________________________________________\n",
      "dropout_15 (Dropout)         (None, 1960)              0         \n",
      "_________________________________________________________________\n",
      "dense_52 (Dense)             (None, 512)               1004032   \n",
      "_________________________________________________________________\n",
      "dropout_16 (Dropout)         (None, 512)               0         \n",
      "_________________________________________________________________\n",
      "dense_53 (Dense)             (None, 784)               402192    \n",
      "_________________________________________________________________\n",
      "reshape_10 (Reshape)         (None, 28, 28, 1)         0         \n",
      "=================================================================\n",
      "Total params: 9,114,904\n",
      "Trainable params: 9,114,904\n",
      "Non-trainable params: 0\n",
      "_________________________________________________________________\n"
     ]
    }
   ],
   "source": [
    "Decoder=models.Sequential()\n",
    "Decoder.add(layers.Dense(input_shape=(10,),units=1960,activation='swish'))\n",
    "Decoder.add(layers.Dropout(0.3))\n",
    "Decoder.add(layers.Dense(units=1960,activation='swish'))\n",
    "Decoder.add(layers.Dropout(0.3))\n",
    "Decoder.add(layers.Dense(units=1960,activation='swish'))\n",
    "Decoder.add(layers.Dropout(0.3))\n",
    "Decoder.add(layers.Dense(units=512,activation='swish'))\n",
    "Decoder.add(layers.Dropout(0.3))\n",
    "Decoder.add(layers.Dense(units=784,activation='relu'))\n",
    "Decoder.add(layers.Reshape((28,28,1)))\n",
    "Decoder.summary()"
   ]
  },
  {
   "cell_type": "code",
   "execution_count": 96,
   "metadata": {},
   "outputs": [
    {
     "name": "stdout",
     "output_type": "stream",
     "text": [
      "Epoch 1/10\n",
      "60000/60000 [==============================] - 2s 36us/step - loss: 0.0544\n",
      "Epoch 2/10\n",
      "60000/60000 [==============================] - 2s 26us/step - loss: 0.0543\n",
      "Epoch 3/10\n",
      "60000/60000 [==============================] - 2s 26us/step - loss: 0.0543\n",
      "Epoch 4/10\n",
      "60000/60000 [==============================] - 2s 26us/step - loss: 0.0543\n",
      "Epoch 5/10\n",
      "60000/60000 [==============================] - 2s 26us/step - loss: 0.0543\n",
      "Epoch 6/10\n",
      "60000/60000 [==============================] - 2s 26us/step - loss: 0.0543\n",
      "Epoch 7/10\n",
      "60000/60000 [==============================] - 2s 27us/step - loss: 0.0543\n",
      "Epoch 8/10\n",
      "60000/60000 [==============================] - 2s 26us/step - loss: 0.0543\n",
      "Epoch 9/10\n",
      "60000/60000 [==============================] - 2s 26us/step - loss: 0.0543\n",
      "Epoch 10/10\n",
      "60000/60000 [==============================] - 2s 26us/step - loss: 0.0543\n"
     ]
    },
    {
     "data": {
      "text/plain": [
       "<keras.callbacks.History at 0x7f4fb44e26a0>"
      ]
     },
     "execution_count": 96,
     "metadata": {},
     "output_type": "execute_result"
    }
   ],
   "source": [
    "Decoder.compile(loss='mse',optimizer='sgd')\n",
    "Decoder.fit(D_train,x_train,epochs=10,batch_size=2000)"
   ]
  },
  {
   "cell_type": "code",
   "execution_count": 95,
   "metadata": {},
   "outputs": [
    {
     "name": "stdout",
     "output_type": "stream",
     "text": [
      "還原圖\n"
     ]
    },
    {
     "data": {
      "image/png": "[encoded data removed]",
      "text/plain": [
       "<IPython.core.display.Image object>"
      ]
     },
     "metadata": {
      "image/png": {
       "width": 800
      }
     },
     "output_type": "display_data"
    },
    {
     "name": "stdout",
     "output_type": "stream",
     "text": [
      "Uniform生成\n"
     ]
    },
    {
     "data": {
      "image/png": "[encoded data removed]",
      "text/plain": [
       "<IPython.core.display.Image object>"
      ]
     },
     "metadata": {
      "image/png": {
       "width": 800
      }
     },
     "output_type": "display_data"
    },
    {
     "name": "stdout",
     "output_type": "stream",
     "text": [
      "Normal生成\n"
     ]
    },
    {
     "data": {
      "image/png": "[encoded data removed]",
      "text/plain": [
       "<IPython.core.display.Image object>"
      ]
     },
     "metadata": {
      "image/png": {
       "width": 800
      }
     },
     "output_type": "display_data"
    }
   ],
   "source": [
    "print('還原圖')\n",
    "reco=Decoder.predict(D_train)\n",
    "show(reco[1:11])\n",
    "print('Uniform生成')\n",
    "a = np.random.random((10,10))\n",
    "reco = Decoder.predict(a)\n",
    "show(reco)\n",
    "print('Normal生成')\n",
    "a = np.random.normal(0,1,(10,10))\n",
    "reco = Decoder.predict(a)\n",
    "show(reco)"
   ]
  },
  {
   "cell_type": "code",
   "execution_count": null,
   "metadata": {
    "collapsed": true
   },
   "outputs": [],
   "source": []
  }
 ],
 "metadata": {
  "kernelspec": {
   "display_name": "Python 3",
   "language": "python",
   "name": "python3"
  },
  "language_info": {
   "codemirror_mode": {
    "name": "ipython",
    "version": 3
   },
   "file_extension": ".py",
   "mimetype": "text/x-python",
   "name": "python",
   "nbconvert_exporter": "python",
   "pygments_lexer": "ipython3",
   "version": "3.6.1"
  }
 },
 "nbformat": 4,
 "nbformat_minor": 2
}
